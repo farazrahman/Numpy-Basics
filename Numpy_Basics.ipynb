{
  "nbformat": 4,
  "nbformat_minor": 0,
  "metadata": {
    "colab": {
      "name": "Numpy Basics",
      "version": "0.3.2",
      "provenance": [],
      "collapsed_sections": [],
      "include_colab_link": true
    },
    "kernelspec": {
      "name": "python3",
      "display_name": "Python 3"
    }
  },
  "cells": [
    {
      "cell_type": "markdown",
      "metadata": {
        "id": "view-in-github",
        "colab_type": "text"
      },
      "source": [
        "<a href=\"https://colab.research.google.com/github/farazrahman/Numpy-Basics/blob/master/Numpy_Basics.ipynb\" target=\"_parent\"><img src=\"https://colab.research.google.com/assets/colab-badge.svg\" alt=\"Open In Colab\"/></a>"
      ]
    },
    {
      "metadata": {
        "id": "M15mEld_kG7J",
        "colab_type": "code",
        "colab": {}
      },
      "cell_type": "code",
      "source": [
        "import numpy as np"
      ],
      "execution_count": 0,
      "outputs": []
    },
    {
      "metadata": {
        "id": "jsw9-JMGkWtM",
        "colab_type": "code",
        "outputId": "a2067e73-de24-4155-8c42-a09b0f71e8d5",
        "colab": {
          "base_uri": "https://localhost:8080/",
          "height": 121
        }
      },
      "cell_type": "code",
      "source": [
        "#Description\n",
        "#Create a 3*3 array using list_1 = [1,2,3] list_2 = [4,5,6] list_3 = [7,8,9]\n",
        "\n",
        "list_1 = [1,2,3]\n",
        "list_2 = [4,5,6] \n",
        "list_3 = [7,8,9]\n",
        "\n",
        "array_3d = np.array([[list_1], [list_2], [list_3]])\n",
        "\n",
        "print(array_3d)\n",
        "\n",
        "print(type(array_3d))"
      ],
      "execution_count": 2,
      "outputs": [
        {
          "output_type": "stream",
          "text": [
            "[[[1 2 3]]\n",
            "\n",
            " [[4 5 6]]\n",
            "\n",
            " [[7 8 9]]]\n",
            "<class 'numpy.ndarray'>\n"
          ],
          "name": "stdout"
        }
      ]
    },
    {
      "metadata": {
        "id": "ZLU85LexmgEd",
        "colab_type": "code",
        "outputId": "4f9184d7-912c-431b-ec60-5b7d5afa8890",
        "colab": {
          "base_uri": "https://localhost:8080/",
          "height": 69
        }
      },
      "cell_type": "code",
      "source": [
        "#Description\n",
        "#Perform an element-wise multiplication using list_1 = [2,3,4,5] list_2 = [7,8,9,6] and obtain the output as a list. \n",
        "\n",
        "list_1 = [2,3,4,5] \n",
        "list_2 = [7,8,9,6]\n",
        "\n",
        "list_1 = np.array(list_1)\n",
        "list_2 = np.array(list_2)\n",
        "\n",
        "array_product = list_1*list_2\n",
        "\n",
        "print(array_product)\n",
        "\n",
        "print(type(array_product))\n",
        "\n",
        "#Convert the product array to list\n",
        "\n",
        "array_list = list(array_product)\n",
        "\n",
        "print(type(array_list))"
      ],
      "execution_count": 3,
      "outputs": [
        {
          "output_type": "stream",
          "text": [
            "[14 24 36 30]\n",
            "<class 'numpy.ndarray'>\n",
            "<class 'list'>\n"
          ],
          "name": "stdout"
        }
      ]
    },
    {
      "metadata": {
        "id": "SvECOm6apsgq",
        "colab_type": "code",
        "outputId": "d7a26a9c-ff78-4c43-d097-89b79a88f65c",
        "colab": {
          "base_uri": "https://localhost:8080/",
          "height": 87
        }
      },
      "cell_type": "code",
      "source": [
        "#Description\n",
        "#Convert a list list_1 = [1,2,3,4] and a tuple tuple_1 = (5,6,7,8) to an array.\n",
        "\n",
        "list_1 = [1,2,3,4] \n",
        "tuple_1 = (5,6,7,8)\n",
        "\n",
        "list_array = np.array(list_1)\n",
        "tupple_array = np.array(tuple_1)\n",
        "\n",
        "print(list_array)\n",
        "print(tupple_array)\n",
        "\n",
        "print(type(list_array))\n",
        "print(type(tupple_array))"
      ],
      "execution_count": 4,
      "outputs": [
        {
          "output_type": "stream",
          "text": [
            "[1 2 3 4]\n",
            "[5 6 7 8]\n",
            "<class 'numpy.ndarray'>\n",
            "<class 'numpy.ndarray'>\n"
          ],
          "name": "stdout"
        }
      ]
    },
    {
      "metadata": {
        "id": "4DGRrKJTvRPx",
        "colab_type": "code",
        "outputId": "259b03e5-257d-4b68-c502-1c30c2d24c0e",
        "colab": {
          "base_uri": "https://localhost:8080/",
          "height": 87
        }
      },
      "cell_type": "code",
      "source": [
        "#Description\n",
        "#Create an array of all ones of size 3*3 having integer values. \n",
        "#Hint: Use dtype to specify integer.\n",
        "\n",
        "array_ones = np.ones((3,3), dtype = int)\n",
        "\n",
        "print(type(array_ones))\n",
        "\n",
        "print(array_ones)"
      ],
      "execution_count": 5,
      "outputs": [
        {
          "output_type": "stream",
          "text": [
            "<class 'numpy.ndarray'>\n",
            "[[1 1 1]\n",
            " [1 1 1]\n",
            " [1 1 1]]\n"
          ],
          "name": "stdout"
        }
      ]
    },
    {
      "metadata": {
        "id": "suvAIdWtv-Td",
        "colab_type": "code",
        "outputId": "7cb5163e-0106-459c-b2f8-f09288c99982",
        "colab": {
          "base_uri": "https://localhost:8080/",
          "height": 35
        }
      },
      "cell_type": "code",
      "source": [
        "#Description\n",
        "#Create an array of first 10 multiples of 5 using the 'arange' function.\n",
        "\n",
        "array_multiplesof5 = np.arange(5,55,5)\n",
        "\n",
        "print(array_multiplesof5)\n",
        "\n"
      ],
      "execution_count": 6,
      "outputs": [
        {
          "output_type": "stream",
          "text": [
            "[ 5 10 15 20 25 30 35 40 45 50]\n"
          ],
          "name": "stdout"
        }
      ]
    },
    {
      "metadata": {
        "id": "9szOrZ074b2x",
        "colab_type": "code",
        "colab": {
          "base_uri": "https://localhost:8080/",
          "height": 52
        },
        "outputId": "b4b081c5-d992-4f52-9367-cf5aedda453d"
      },
      "cell_type": "code",
      "source": [
        "#Indexing Array\n",
        "#Given an array array_1 = [1,2,3,5,4,6,7,8,5,3,2], what will be the output  of print(array_1[:3])?\n",
        "\n",
        "array_1 = [1,2,3,5,4,6,7,8,5,3,2]\n",
        "\n",
        "print(array_1[:3])\n",
        "\n",
        "\n",
        "#What will be the output  of print(array_1[0::2])?\n",
        "\n",
        "print(array_1[0::2])"
      ],
      "execution_count": 8,
      "outputs": [
        {
          "output_type": "stream",
          "text": [
            "[1, 2, 3]\n",
            "[1, 3, 4, 7, 5, 2]\n"
          ],
          "name": "stdout"
        }
      ]
    },
    {
      "metadata": {
        "id": "yDRINXth5EtJ",
        "colab_type": "code",
        "colab": {
          "base_uri": "https://localhost:8080/",
          "height": 87
        },
        "outputId": "3af28304-8e3f-4913-b9cb-a5fd6a12497d"
      },
      "cell_type": "code",
      "source": [
        "#From a 2D array extract all the rows of the 2 column.\n",
        "\n",
        "array_2d = np.array([[1,5,4,6],[8,9,0,7],[4,3,2,1]])\n",
        "\n",
        "print(array_2d)\n",
        "\n",
        "print(array_2d[:,1])\n"
      ],
      "execution_count": 12,
      "outputs": [
        {
          "output_type": "stream",
          "text": [
            "[[1 5 4 6]\n",
            " [8 9 0 7]\n",
            " [4 3 2 1]]\n",
            "[5 9 3]\n"
          ],
          "name": "stdout"
        }
      ]
    },
    {
      "metadata": {
        "id": "QrjeRA-D-C3s",
        "colab_type": "code",
        "colab": {
          "base_uri": "https://localhost:8080/",
          "height": 35
        },
        "outputId": "7436905d-37e1-46f3-8311-fadfceb7da2d"
      },
      "cell_type": "code",
      "source": [
        "#Slicing all rows and the third column\n",
        "\n",
        "print(array_2d[:,2])"
      ],
      "execution_count": 13,
      "outputs": [
        {
          "output_type": "stream",
          "text": [
            "[4 0 2]\n"
          ],
          "name": "stdout"
        }
      ]
    },
    {
      "metadata": {
        "id": "GmlX4lOf-Mw0",
        "colab_type": "code",
        "colab": {
          "base_uri": "https://localhost:8080/",
          "height": 69
        },
        "outputId": "cbfdf701-395d-4b24-a85c-db1492651eda"
      },
      "cell_type": "code",
      "source": [
        "#Slicing all rows and the first three columns\n",
        "\n",
        "print(array_2d[:,:3])"
      ],
      "execution_count": 16,
      "outputs": [
        {
          "output_type": "stream",
          "text": [
            "[[1 5 4]\n",
            " [8 9 0]\n",
            " [4 3 2]]\n"
          ],
          "name": "stdout"
        }
      ]
    },
    {
      "metadata": {
        "id": "Bl9AmFjB_YHe",
        "colab_type": "text"
      },
      "cell_type": "markdown",
      "source": [
        "Summary: \n",
        "\n",
        "1.  NumPy stands for Numerical Python and is used for scientific computing in Python. \n",
        "2.  The basic object in NumPy is the ndarray (an array which is an n-dimensional, homogeneous array).\n",
        "3.  All elements in a NumPy array have to be of the same data type, which is commonly numeric (float or integer).\n",
        "4.  Numpy is much faster than the standard python ways to do computations.\n",
        "\n",
        "\n"
      ]
    }
  ]
}
